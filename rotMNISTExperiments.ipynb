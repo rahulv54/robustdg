{
 "cells": [
  {
   "cell_type": "code",
   "execution_count": 33,
   "metadata": {},
   "outputs": [],
   "source": [
    "#Common imports\n",
    "import os\n",
    "import sys\n",
    "import numpy as np\n",
    "import argparse\n",
    "import copy\n",
    "import random\n",
    "import json\n",
    "import pickle\n",
    "from importlib import reload\n",
    "\n",
    "#Pytorch\n",
    "import torch\n",
    "from torch.autograd import grad\n",
    "from torch import nn, optim\n",
    "from torch.nn import functional as F\n",
    "from torchvision import datasets, transforms\n",
    "from torchvision.utils import save_image\n",
    "from torch.autograd import Variable\n",
    "import torch.utils.data as data_utils\n",
    "\n",
    "# sys.path.append(\"../\")\n",
    "#robustdg\n",
    "from utils.helper import *\n",
    "from utils.match_function import *\n",
    "\n",
    "from algorithms.erm import Erm\n",
    "\n",
    "from rv_experiments import my_utils"
   ]
  },
  {
   "cell_type": "code",
   "execution_count": 2,
   "metadata": {},
   "outputs": [
    {
     "data": {
      "text/plain": [
       "'1.8.1+cu102'"
      ]
     },
     "execution_count": 2,
     "metadata": {},
     "output_type": "execute_result"
    }
   ],
   "source": [
    "torch.__version__\n"
   ]
  },
  {
   "cell_type": "code",
   "execution_count": 16,
   "metadata": {},
   "outputs": [],
   "source": [
    "\n",
    "with open('configs/commandline_args.txt', 'r') as f:\n",
    "    args= json.load(f)\n",
    "args = my_utils.dotdict(args)"
   ]
  },
  {
   "cell_type": "code",
   "execution_count": 11,
   "metadata": {},
   "outputs": [],
   "source": [
    "\n",
    "#gpu\n",
    "os.environ[\"CUDA_DEVICE_ORDER\"] = \"PCI_BUS_ID\"\n",
    "os.environ[\"CUDA_VISIBLE_DEVICES\"] = \"1\"\n",
    "\n",
    "#GPU\n",
    "cuda= torch.device(\"cuda:\" + \"0\")\n",
    "if cuda:\n",
    "    kwargs = {'num_workers': 0, 'pin_memory': False}\n",
    "else:\n",
    "    kwargs= {}\n"
   ]
  },
  {
   "cell_type": "code",
   "execution_count": 10,
   "metadata": {},
   "outputs": [
    {
     "data": {
      "text/plain": [
       "device(type='cuda', index=1)"
      ]
     },
     "execution_count": 10,
     "metadata": {},
     "output_type": "execute_result"
    }
   ],
   "source": [
    "cuda"
   ]
  },
  {
   "cell_type": "code",
   "execution_count": 5,
   "metadata": {},
   "outputs": [
    {
     "data": {
      "text/plain": [
       "'rot_mnist'"
      ]
     },
     "execution_count": 5,
     "metadata": {},
     "output_type": "execute_result"
    }
   ],
   "source": [
    "args['dataset_name']"
   ]
  },
  {
   "cell_type": "code",
   "execution_count": 6,
   "metadata": {},
   "outputs": [
    {
     "data": {
      "text/plain": [
       "\"../results_jupyter/rot_mnist/matchdg_erm/logit_match/train_['15', '30', '45', '60', '75']\""
      ]
     },
     "execution_count": 6,
     "metadata": {},
     "output_type": "execute_result"
    }
   ],
   "source": [
    "res_dir= '../results_jupyter/'\n",
    "\n",
    "base_res_dir=(\n",
    "            res_dir + args['dataset_name'] + '/' + args['method_name'] + '/' + args['match_layer']\n",
    "            + '/' + 'train_' + str(args['train_domains'])\n",
    "        )\n",
    "\n",
    "if not os.path.exists(base_res_dir):\n",
    "    os.makedirs(base_res_dir)\n",
    "\n",
    "base_res_dir"
   ]
  },
  {
   "cell_type": "code",
   "execution_count": 20,
   "metadata": {},
   "outputs": [],
   "source": [
    "run = 1"
   ]
  },
  {
   "cell_type": "code",
   "execution_count": 36,
   "metadata": {},
   "outputs": [
    {
     "name": "stdout",
     "output_type": "stream",
     "text": [
      "MNIST Subset:  1\n",
      "Source Domain  30\n",
      "Source Domain  45\n",
      "Match Function Updates\n",
      "Max Class Size:  180  Base Domain Idx:  0  Class Label:  0\n",
      "Max Class Size:  239  Base Domain Idx:  0  Class Label:  1\n",
      "Max Class Size:  177  Base Domain Idx:  0  Class Label:  2\n",
      "Max Class Size:  216  Base Domain Idx:  0  Class Label:  3\n",
      "Max Class Size:  204  Base Domain Idx:  0  Class Label:  4\n",
      "Max Class Size:  186  Base Domain Idx:  0  Class Label:  5\n",
      "Max Class Size:  196  Base Domain Idx:  0  Class Label:  6\n",
      "Max Class Size:  193  Base Domain Idx:  0  Class Label:  7\n",
      "Max Class Size:  201  Base Domain Idx:  0  Class Label:  8\n",
      "Max Class Size:  208  Base Domain Idx:  0  Class Label:  9\n",
      "Shape: Data  torch.Size([4000, 1, 224, 224])  Labels  torch.Size([4000, 10])  Domains  torch.Size([4000, 2])  Indices  (4000,)  Objects  (4000,)\n",
      "train 2000 [2000, 2000]\n",
      "MNIST Subset:  1\n",
      "Source Domain  30\n",
      "Source Domain  45\n",
      "Match Function Updates\n",
      "Max Class Size:  39  Base Domain Idx:  0  Class Label:  0\n",
      "Max Class Size:  42  Base Domain Idx:  0  Class Label:  1\n",
      "Max Class Size:  39  Base Domain Idx:  0  Class Label:  2\n",
      "Max Class Size:  48  Base Domain Idx:  0  Class Label:  3\n",
      "Max Class Size:  44  Base Domain Idx:  0  Class Label:  4\n",
      "Max Class Size:  41  Base Domain Idx:  0  Class Label:  5\n",
      "Max Class Size:  37  Base Domain Idx:  0  Class Label:  6\n",
      "Max Class Size:  37  Base Domain Idx:  0  Class Label:  7\n",
      "Max Class Size:  37  Base Domain Idx:  0  Class Label:  8\n",
      "Max Class Size:  36  Base Domain Idx:  0  Class Label:  9\n",
      "Shape: Data  torch.Size([800, 1, 224, 224])  Labels  torch.Size([800, 10])  Domains  torch.Size([800, 2])  Indices  (800,)  Objects  (800,)\n",
      "val 400 [400, 400]\n",
      "MNIST Subset:  9\n",
      "Source Domain  0\n",
      "Source Domain  90\n",
      "Match Function Updates\n",
      "Max Class Size:  177  Base Domain Idx:  0  Class Label:  0\n",
      "Max Class Size:  217  Base Domain Idx:  0  Class Label:  1\n",
      "Max Class Size:  193  Base Domain Idx:  0  Class Label:  2\n",
      "Max Class Size:  213  Base Domain Idx:  0  Class Label:  3\n",
      "Max Class Size:  193  Base Domain Idx:  0  Class Label:  4\n",
      "Max Class Size:  175  Base Domain Idx:  0  Class Label:  5\n",
      "Max Class Size:  192  Base Domain Idx:  0  Class Label:  6\n",
      "Max Class Size:  218  Base Domain Idx:  0  Class Label:  7\n",
      "Max Class Size:  221  Base Domain Idx:  0  Class Label:  8\n",
      "Max Class Size:  201  Base Domain Idx:  0  Class Label:  9\n",
      "Shape: Data  torch.Size([4000, 1, 224, 224])  Labels  torch.Size([4000, 10])  Domains  torch.Size([4000, 2])  Indices  (4000,)  Objects  (4000,)\n",
      "test 2000 [2000, 2000]\n"
     ]
    }
   ],
   "source": [
    "#DataLoader\n",
    "train_dataset = get_dataloader( args, run, args['train_domains'], 'train', 0, kwargs )\n",
    "val_dataset = get_dataloader(args, run, args['train_domains'], 'val', 0, kwargs)\n",
    "test_dataset = get_dataloader(args, run, args['test_domains'], 'test', 0, kwargs)\n"
   ]
  },
  {
   "cell_type": "code",
   "execution_count": 22,
   "metadata": {},
   "outputs": [
    {
     "name": "stdout",
     "output_type": "stream",
     "text": [
      "defined network\n",
      "Model Architecture:  resnet18\n"
     ]
    }
   ],
   "source": [
    "print(\"defined network\")\n",
    "\n",
    "train_method = Erm(\n",
    "    args, train_dataset, val_dataset,\n",
    "    test_dataset, base_res_dir,\n",
    "    run, cuda\n",
    ")\n"
   ]
  },
  {
   "cell_type": "code",
   "execution_count": 23,
   "metadata": {},
   "outputs": [
    {
     "name": "stdout",
     "output_type": "stream",
     "text": [
      "Train Loss Basic :  175.05017826333642\n",
      "Train Acc Env :  76.875\n",
      "Done Training for epoch:  0\n",
      " Accuracy:  val 92.375\n",
      " Accuracy:  test 46.325\n",
      "Train Loss Basic :  45.60670151095837\n",
      "Train Acc Env :  94.375\n",
      "Done Training for epoch:  1\n",
      " Accuracy:  val 94.25\n",
      " Accuracy:  test 50.225\n",
      "Train Loss Basic :  23.947802903596312\n",
      "Train Acc Env :  97.225\n",
      "Done Training for epoch:  2\n",
      " Accuracy:  val 97.25\n",
      " Accuracy:  test 54.125\n",
      "Train Loss Basic :  16.085121994954534\n",
      "Train Acc Env :  97.85\n",
      "Done Training for epoch:  3\n",
      " Accuracy:  val 96.375\n",
      " Accuracy:  test 57.475\n",
      "Train Loss Basic :  8.959971876640338\n",
      "Train Acc Env :  98.9\n",
      "Done Training for epoch:  4\n",
      " Accuracy:  val 96.5\n",
      " Accuracy:  test 65.1\n",
      "Train Loss Basic :  4.290477101516444\n",
      "Train Acc Env :  99.625\n",
      "Done Training for epoch:  5\n",
      " Accuracy:  val 97.375\n",
      " Accuracy:  test 63.7\n",
      "Train Loss Basic :  3.8634634539484978\n",
      "Train Acc Env :  99.525\n",
      "Done Training for epoch:  6\n",
      " Accuracy:  val 97.375\n",
      " Accuracy:  test 63.275\n",
      "Train Loss Basic :  3.072508768418629\n",
      "Train Acc Env :  99.65\n",
      "Done Training for epoch:  7\n",
      " Accuracy:  val 96.5\n",
      " Accuracy:  test 64.15\n",
      "Train Loss Basic :  2.72796813333116\n",
      "Train Acc Env :  99.725\n",
      "Done Training for epoch:  8\n",
      " Accuracy:  val 97.875\n",
      " Accuracy:  test 63.3\n",
      "Train Loss Basic :  0.926162232124625\n",
      "Train Acc Env :  99.975\n",
      "Done Training for epoch:  9\n",
      " Accuracy:  val 97.75\n",
      " Accuracy:  test 65.025\n",
      "Train Loss Basic :  0.7816909017492435\n",
      "Train Acc Env :  99.95\n",
      "Done Training for epoch:  10\n",
      " Accuracy:  val 97.5\n",
      " Accuracy:  test 64.425\n",
      "Train Loss Basic :  0.5937289512949064\n",
      "Train Acc Env :  100.0\n",
      "Done Training for epoch:  11\n",
      " Accuracy:  val 98.125\n",
      " Accuracy:  test 65.775\n",
      "Train Loss Basic :  0.6927610489801737\n",
      "Train Acc Env :  100.0\n",
      "Done Training for epoch:  12\n",
      " Accuracy:  val 97.125\n",
      " Accuracy:  test 67.05\n",
      "Train Loss Basic :  0.6061201481061289\n",
      "Train Acc Env :  100.0\n",
      "Done Training for epoch:  13\n",
      " Accuracy:  val 97.5\n",
      " Accuracy:  test 65.9\n",
      "Train Loss Basic :  0.5028176958367112\n",
      "Train Acc Env :  100.0\n",
      "Done Training for epoch:  14\n",
      " Accuracy:  val 97.5\n",
      " Accuracy:  test 65.5\n",
      "Train Loss Basic :  1.3656941654990078\n",
      "Train Acc Env :  99.9\n",
      "Done Training for epoch:  15\n",
      " Accuracy:  val 98.25\n",
      " Accuracy:  test 65.15\n",
      "Train Loss Basic :  0.5197250206983881\n",
      "Train Acc Env :  100.0\n",
      "Done Training for epoch:  16\n",
      " Accuracy:  val 98.0\n",
      " Accuracy:  test 67.2\n",
      "Train Loss Basic :  2.3761328082255204\n",
      "Train Acc Env :  99.7\n",
      "Done Training for epoch:  17\n",
      " Accuracy:  val 97.0\n",
      " Accuracy:  test 64.8\n",
      "Train Loss Basic :  1.4653604969935259\n",
      "Train Acc Env :  99.9\n",
      "Done Training for epoch:  18\n",
      " Accuracy:  val 97.625\n",
      " Accuracy:  test 68.425\n",
      "Train Loss Basic :  0.4898843799601309\n",
      "Train Acc Env :  100.0\n",
      "Done Training for epoch:  19\n",
      " Accuracy:  val 97.75\n",
      " Accuracy:  test 67.875\n",
      "Train Loss Basic :  0.45665566625393694\n",
      "Train Acc Env :  100.0\n",
      "Done Training for epoch:  20\n",
      " Accuracy:  val 97.625\n",
      " Accuracy:  test 66.3\n",
      "Train Loss Basic :  0.328571663783805\n",
      "Train Acc Env :  100.0\n",
      "Done Training for epoch:  21\n",
      " Accuracy:  val 97.875\n",
      " Accuracy:  test 66.95\n",
      "Train Loss Basic :  0.40444302748073824\n",
      "Train Acc Env :  100.0\n",
      "Done Training for epoch:  22\n",
      " Accuracy:  val 97.875\n",
      " Accuracy:  test 66.55\n",
      "Train Loss Basic :  0.2966493153653573\n",
      "Train Acc Env :  100.0\n",
      "Done Training for epoch:  23\n",
      " Accuracy:  val 97.5\n",
      " Accuracy:  test 67.025\n",
      "Train Loss Basic :  0.2809494353205082\n",
      "Train Acc Env :  100.0\n",
      "Done Training for epoch:  24\n",
      " Accuracy:  val 98.0\n",
      " Accuracy:  test 65.975\n"
     ]
    }
   ],
   "source": [
    "# Train the method: It will save the model's weights post training and evalute it on test accuracy\n",
    "train_method.train()\n"
   ]
  },
  {
   "cell_type": "code",
   "execution_count": 39,
   "metadata": {},
   "outputs": [
    {
     "name": "stdout",
     "output_type": "stream",
     "text": [
      "Model Architecture:  resnet18\n"
     ]
    }
   ],
   "source": [
    "from algorithms import match_dg\n",
    "reload(match_dg)\n",
    "ctr_phase = 0\n",
    "train_method= match_dg.MatchDG(\n",
    "                        args, train_dataset, val_dataset,\n",
    "                        test_dataset, base_res_dir,\n",
    "                        run, cuda, ctr_phase\n",
    "                     )"
   ]
  },
  {
   "cell_type": "code",
   "execution_count": 40,
   "metadata": {},
   "outputs": [
    {
     "name": "stdout",
     "output_type": "stream",
     "text": [
      "Here\n"
     ]
    },
    {
     "ename": "FileNotFoundError",
     "evalue": "[Errno 2] No such file or directory: \"results/rot_mnist/matchdg_ctr/logit_match/train_['30', '45']/Model_0.0_5_1_1_resnet18.pth\"",
     "output_type": "error",
     "traceback": [
      "\u001b[0;31m---------------------------------------------------------------------------\u001b[0m",
      "\u001b[0;31mFileNotFoundError\u001b[0m                         Traceback (most recent call last)",
      "\u001b[0;32m<ipython-input-40-4aadc8472f24>\u001b[0m in \u001b[0;36m<module>\u001b[0;34m\u001b[0m\n\u001b[1;32m     10\u001b[0m \u001b[0;34m\u001b[0m\u001b[0m\n\u001b[1;32m     11\u001b[0m \u001b[0mbase_res_dir\u001b[0m\u001b[0;34m\u001b[0m\u001b[0;34m\u001b[0m\u001b[0m\n\u001b[0;32m---> 12\u001b[0;31m \u001b[0mtrain_method\u001b[0m\u001b[0;34m.\u001b[0m\u001b[0mtrain\u001b[0m\u001b[0;34m(\u001b[0m\u001b[0;34m)\u001b[0m\u001b[0;34m\u001b[0m\u001b[0;34m\u001b[0m\u001b[0m\n\u001b[0m",
      "\u001b[0;32m~/codes/robustdg/algorithms/match_dg.py\u001b[0m in \u001b[0;36mtrain\u001b[0;34m(self)\u001b[0m\n\u001b[1;32m     34\u001b[0m             \u001b[0mself\u001b[0m\u001b[0;34m.\u001b[0m\u001b[0mtrain_ctr_phase\u001b[0m\u001b[0;34m(\u001b[0m\u001b[0;34m)\u001b[0m\u001b[0;34m\u001b[0m\u001b[0;34m\u001b[0m\u001b[0m\n\u001b[1;32m     35\u001b[0m         \u001b[0;32melse\u001b[0m\u001b[0;34m:\u001b[0m\u001b[0;34m\u001b[0m\u001b[0;34m\u001b[0m\u001b[0m\n\u001b[0;32m---> 36\u001b[0;31m             \u001b[0mself\u001b[0m\u001b[0;34m.\u001b[0m\u001b[0mtrain_erm_phase\u001b[0m\u001b[0;34m(\u001b[0m\u001b[0;34m)\u001b[0m\u001b[0;34m\u001b[0m\u001b[0;34m\u001b[0m\u001b[0m\n\u001b[0m\u001b[1;32m     37\u001b[0m \u001b[0;34m\u001b[0m\u001b[0m\n\u001b[1;32m     38\u001b[0m     \u001b[0;32mdef\u001b[0m \u001b[0msave_model_ctr_phase\u001b[0m\u001b[0;34m(\u001b[0m\u001b[0mself\u001b[0m\u001b[0;34m,\u001b[0m \u001b[0mepoch\u001b[0m\u001b[0;34m)\u001b[0m\u001b[0;34m:\u001b[0m\u001b[0;34m\u001b[0m\u001b[0;34m\u001b[0m\u001b[0m\n",
      "\u001b[0;32m~/codes/robustdg/algorithms/match_dg.py\u001b[0m in \u001b[0;36mtrain_erm_phase\u001b[0;34m(self)\u001b[0m\n\u001b[1;32m    278\u001b[0m \u001b[0;34m\u001b[0m\u001b[0m\n\u001b[1;32m    279\u001b[0m                 \u001b[0;32mif\u001b[0m \u001b[0mepoch\u001b[0m \u001b[0;34m==\u001b[0m\u001b[0;36m0\u001b[0m\u001b[0;34m:\u001b[0m\u001b[0;34m\u001b[0m\u001b[0;34m\u001b[0m\u001b[0m\n\u001b[0;32m--> 280\u001b[0;31m                     \u001b[0mself\u001b[0m\u001b[0;34m.\u001b[0m\u001b[0mdata_matched\u001b[0m\u001b[0;34m,\u001b[0m \u001b[0mself\u001b[0m\u001b[0;34m.\u001b[0m\u001b[0mdomain_data\u001b[0m\u001b[0;34m=\u001b[0m \u001b[0mself\u001b[0m\u001b[0;34m.\u001b[0m\u001b[0minit_erm_phase\u001b[0m\u001b[0;34m(\u001b[0m\u001b[0;34m)\u001b[0m\u001b[0;34m\u001b[0m\u001b[0;34m\u001b[0m\u001b[0m\n\u001b[0m\u001b[1;32m    281\u001b[0m                 \u001b[0;32melif\u001b[0m \u001b[0mepoch\u001b[0m \u001b[0;34m%\u001b[0m \u001b[0mself\u001b[0m\u001b[0;34m.\u001b[0m\u001b[0margs\u001b[0m\u001b[0;34m.\u001b[0m\u001b[0mmatch_interrupt\u001b[0m \u001b[0;34m==\u001b[0m \u001b[0;36m0\u001b[0m \u001b[0;32mand\u001b[0m \u001b[0mself\u001b[0m\u001b[0;34m.\u001b[0m\u001b[0margs\u001b[0m\u001b[0;34m.\u001b[0m\u001b[0mmatch_flag\u001b[0m\u001b[0;34m:\u001b[0m\u001b[0;34m\u001b[0m\u001b[0;34m\u001b[0m\u001b[0m\n\u001b[1;32m    282\u001b[0m                     \u001b[0minferred_match\u001b[0m\u001b[0;34m=\u001b[0m \u001b[0;36m1\u001b[0m\u001b[0;34m\u001b[0m\u001b[0;34m\u001b[0m\u001b[0m\n",
      "\u001b[0;32m~/codes/robustdg/algorithms/match_dg.py\u001b[0m in \u001b[0;36minit_erm_phase\u001b[0;34m(self)\u001b[0m\n\u001b[1;32m     95\u001b[0m \u001b[0;34m\u001b[0m\u001b[0m\n\u001b[1;32m     96\u001b[0m             \u001b[0msave_path\u001b[0m\u001b[0;34m=\u001b[0m \u001b[0mbase_res_dir\u001b[0m \u001b[0;34m+\u001b[0m \u001b[0;34m'/Model_'\u001b[0m \u001b[0;34m+\u001b[0m \u001b[0mself\u001b[0m\u001b[0;34m.\u001b[0m\u001b[0mctr_load_post_string\u001b[0m \u001b[0;34m+\u001b[0m \u001b[0;34m'.pth'\u001b[0m\u001b[0;34m\u001b[0m\u001b[0;34m\u001b[0m\u001b[0m\n\u001b[0;32m---> 97\u001b[0;31m             \u001b[0mctr_phi\u001b[0m\u001b[0;34m.\u001b[0m\u001b[0mload_state_dict\u001b[0m\u001b[0;34m(\u001b[0m \u001b[0mtorch\u001b[0m\u001b[0;34m.\u001b[0m\u001b[0mload\u001b[0m\u001b[0;34m(\u001b[0m\u001b[0msave_path\u001b[0m\u001b[0;34m)\u001b[0m \u001b[0;34m)\u001b[0m\u001b[0;34m\u001b[0m\u001b[0;34m\u001b[0m\u001b[0m\n\u001b[0m\u001b[1;32m     98\u001b[0m             \u001b[0mctr_phi\u001b[0m\u001b[0;34m.\u001b[0m\u001b[0meval\u001b[0m\u001b[0;34m(\u001b[0m\u001b[0;34m)\u001b[0m\u001b[0;34m\u001b[0m\u001b[0;34m\u001b[0m\u001b[0m\n\u001b[1;32m     99\u001b[0m \u001b[0;34m\u001b[0m\u001b[0m\n",
      "\u001b[0;32m~/codes/robustdg/robustdg/lib/python3.7/site-packages/torch/serialization.py\u001b[0m in \u001b[0;36mload\u001b[0;34m(f, map_location, pickle_module, **pickle_load_args)\u001b[0m\n\u001b[1;32m    577\u001b[0m         \u001b[0mpickle_load_args\u001b[0m\u001b[0;34m[\u001b[0m\u001b[0;34m'encoding'\u001b[0m\u001b[0;34m]\u001b[0m \u001b[0;34m=\u001b[0m \u001b[0;34m'utf-8'\u001b[0m\u001b[0;34m\u001b[0m\u001b[0;34m\u001b[0m\u001b[0m\n\u001b[1;32m    578\u001b[0m \u001b[0;34m\u001b[0m\u001b[0m\n\u001b[0;32m--> 579\u001b[0;31m     \u001b[0;32mwith\u001b[0m \u001b[0m_open_file_like\u001b[0m\u001b[0;34m(\u001b[0m\u001b[0mf\u001b[0m\u001b[0;34m,\u001b[0m \u001b[0;34m'rb'\u001b[0m\u001b[0;34m)\u001b[0m \u001b[0;32mas\u001b[0m \u001b[0mopened_file\u001b[0m\u001b[0;34m:\u001b[0m\u001b[0;34m\u001b[0m\u001b[0;34m\u001b[0m\u001b[0m\n\u001b[0m\u001b[1;32m    580\u001b[0m         \u001b[0;32mif\u001b[0m \u001b[0m_is_zipfile\u001b[0m\u001b[0;34m(\u001b[0m\u001b[0mopened_file\u001b[0m\u001b[0;34m)\u001b[0m\u001b[0;34m:\u001b[0m\u001b[0;34m\u001b[0m\u001b[0;34m\u001b[0m\u001b[0m\n\u001b[1;32m    581\u001b[0m             \u001b[0;31m# The zipfile reader is going to advance the current file position.\u001b[0m\u001b[0;34m\u001b[0m\u001b[0;34m\u001b[0m\u001b[0;34m\u001b[0m\u001b[0m\n",
      "\u001b[0;32m~/codes/robustdg/robustdg/lib/python3.7/site-packages/torch/serialization.py\u001b[0m in \u001b[0;36m_open_file_like\u001b[0;34m(name_or_buffer, mode)\u001b[0m\n\u001b[1;32m    228\u001b[0m \u001b[0;32mdef\u001b[0m \u001b[0m_open_file_like\u001b[0m\u001b[0;34m(\u001b[0m\u001b[0mname_or_buffer\u001b[0m\u001b[0;34m,\u001b[0m \u001b[0mmode\u001b[0m\u001b[0;34m)\u001b[0m\u001b[0;34m:\u001b[0m\u001b[0;34m\u001b[0m\u001b[0;34m\u001b[0m\u001b[0m\n\u001b[1;32m    229\u001b[0m     \u001b[0;32mif\u001b[0m \u001b[0m_is_path\u001b[0m\u001b[0;34m(\u001b[0m\u001b[0mname_or_buffer\u001b[0m\u001b[0;34m)\u001b[0m\u001b[0;34m:\u001b[0m\u001b[0;34m\u001b[0m\u001b[0;34m\u001b[0m\u001b[0m\n\u001b[0;32m--> 230\u001b[0;31m         \u001b[0;32mreturn\u001b[0m \u001b[0m_open_file\u001b[0m\u001b[0;34m(\u001b[0m\u001b[0mname_or_buffer\u001b[0m\u001b[0;34m,\u001b[0m \u001b[0mmode\u001b[0m\u001b[0;34m)\u001b[0m\u001b[0;34m\u001b[0m\u001b[0;34m\u001b[0m\u001b[0m\n\u001b[0m\u001b[1;32m    231\u001b[0m     \u001b[0;32melse\u001b[0m\u001b[0;34m:\u001b[0m\u001b[0;34m\u001b[0m\u001b[0;34m\u001b[0m\u001b[0m\n\u001b[1;32m    232\u001b[0m         \u001b[0;32mif\u001b[0m \u001b[0;34m'w'\u001b[0m \u001b[0;32min\u001b[0m \u001b[0mmode\u001b[0m\u001b[0;34m:\u001b[0m\u001b[0;34m\u001b[0m\u001b[0;34m\u001b[0m\u001b[0m\n",
      "\u001b[0;32m~/codes/robustdg/robustdg/lib/python3.7/site-packages/torch/serialization.py\u001b[0m in \u001b[0;36m__init__\u001b[0;34m(self, name, mode)\u001b[0m\n\u001b[1;32m    209\u001b[0m \u001b[0;32mclass\u001b[0m \u001b[0m_open_file\u001b[0m\u001b[0;34m(\u001b[0m\u001b[0m_opener\u001b[0m\u001b[0;34m)\u001b[0m\u001b[0;34m:\u001b[0m\u001b[0;34m\u001b[0m\u001b[0;34m\u001b[0m\u001b[0m\n\u001b[1;32m    210\u001b[0m     \u001b[0;32mdef\u001b[0m \u001b[0m__init__\u001b[0m\u001b[0;34m(\u001b[0m\u001b[0mself\u001b[0m\u001b[0;34m,\u001b[0m \u001b[0mname\u001b[0m\u001b[0;34m,\u001b[0m \u001b[0mmode\u001b[0m\u001b[0;34m)\u001b[0m\u001b[0;34m:\u001b[0m\u001b[0;34m\u001b[0m\u001b[0;34m\u001b[0m\u001b[0m\n\u001b[0;32m--> 211\u001b[0;31m         \u001b[0msuper\u001b[0m\u001b[0;34m(\u001b[0m\u001b[0m_open_file\u001b[0m\u001b[0;34m,\u001b[0m \u001b[0mself\u001b[0m\u001b[0;34m)\u001b[0m\u001b[0;34m.\u001b[0m\u001b[0m__init__\u001b[0m\u001b[0;34m(\u001b[0m\u001b[0mopen\u001b[0m\u001b[0;34m(\u001b[0m\u001b[0mname\u001b[0m\u001b[0;34m,\u001b[0m \u001b[0mmode\u001b[0m\u001b[0;34m)\u001b[0m\u001b[0;34m)\u001b[0m\u001b[0;34m\u001b[0m\u001b[0;34m\u001b[0m\u001b[0m\n\u001b[0m\u001b[1;32m    212\u001b[0m \u001b[0;34m\u001b[0m\u001b[0m\n\u001b[1;32m    213\u001b[0m     \u001b[0;32mdef\u001b[0m \u001b[0m__exit__\u001b[0m\u001b[0;34m(\u001b[0m\u001b[0mself\u001b[0m\u001b[0;34m,\u001b[0m \u001b[0;34m*\u001b[0m\u001b[0margs\u001b[0m\u001b[0;34m)\u001b[0m\u001b[0;34m:\u001b[0m\u001b[0;34m\u001b[0m\u001b[0;34m\u001b[0m\u001b[0m\n",
      "\u001b[0;31mFileNotFoundError\u001b[0m: [Errno 2] No such file or directory: \"results/rot_mnist/matchdg_ctr/logit_match/train_['30', '45']/Model_0.0_5_1_1_resnet18.pth\""
     ]
    }
   ],
   "source": [
    "res_dir= '../results_jupyter/'\n",
    "args['method_name'] = 'match_dg'\n",
    "base_res_dir=(\n",
    "            res_dir + args['dataset_name'] + '/' + args['method_name'] + '/' + args['match_layer']\n",
    "            + '/' + 'train_' + str(args['train_domains'])\n",
    "        )\n",
    "\n",
    "if not os.path.exists(base_res_dir):\n",
    "    os.makedirs(base_res_dir)\n",
    "\n",
    "base_res_dir\n",
    "train_method.train()\n"
   ]
  },
  {
   "cell_type": "code",
   "execution_count": null,
   "metadata": {},
   "outputs": [],
   "source": []
  }
 ],
 "metadata": {
  "kernelspec": {
   "display_name": "robustdg",
   "language": "python",
   "name": "robustdg"
  },
  "language_info": {
   "codemirror_mode": {
    "name": "ipython",
    "version": 3
   },
   "file_extension": ".py",
   "mimetype": "text/x-python",
   "name": "python",
   "nbconvert_exporter": "python",
   "pygments_lexer": "ipython3",
   "version": "3.7.3"
  }
 },
 "nbformat": 4,
 "nbformat_minor": 2
}
