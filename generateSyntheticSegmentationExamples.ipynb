{
 "cells": [
  {
   "cell_type": "code",
   "execution_count": 2,
   "metadata": {},
   "outputs": [],
   "source": [
    "import numpy as np\n",
    "import cv2\n",
    "from skimage.draw import circle, disk, rectangle\n",
    "from skimage import data, img_as_float\n",
    "from skimage.util import random_noise\n",
    "from matplotlib import pyplot as plt\n",
    "import os"
   ]
  },
  {
   "cell_type": "code",
   "execution_count": 3,
   "metadata": {},
   "outputs": [],
   "source": [
    "def generate_circle_img(sigma_range, center_extent, radius_extent, amount = 0, mode = 'gaussian', debug = False):\n",
    "    center_coords = np.random.randint(*center_extent,2)\n",
    "    radius = np.random.randint(radius_extent)\n",
    "    \n",
    "\n",
    "    rr, cc = disk((center_coords[0], center_coords[1]), radius)\n",
    "    \n",
    "\n",
    "    img = np.zeros((256,256), dtype=np.float32)\n",
    "    mask = np.zeros((256,256), dtype=np.uint8)\n",
    "    \n",
    "    sigma = np.random.uniform(*sigma_range )\n",
    "    amount = amount\n",
    "    img = img_as_float(img)\n",
    "    \n",
    "    if mode == 'gaussian':\n",
    "        noise = random_noise(img, var= sigma, mode = mode)\n",
    "    else:\n",
    "        noise = random_noise(img, amount= 0.5, mode = mode)\n",
    "    \n",
    "    img[rr, cc] = noise[rr, cc]\n",
    "    mask[rr, cc] = 1\n",
    "\n",
    "    if debug == True:\n",
    "        plt.subplot(1,2,1)\n",
    "        plt.imshow(img)\n",
    "\n",
    "        plt.subplot(1,2,2)\n",
    "        plt.imshow(mask)\n",
    "        \n",
    "    return img, mask\n",
    "\n",
    "def generate_rect_img(sigma_range, start_extent, extent, amount = 0, mode = 'gaussian', debug = False):\n",
    "    start_coords = np.random.randint(*start_extent, 2)\n",
    "    extent = np.random.randint(extent)\n",
    "    \n",
    "    rr, cc = rectangle((start_coords[0], start_coords[1]), extent)\n",
    "    \n",
    "    img = np.zeros((256,256), dtype=np.float32)\n",
    "    mask = np.zeros((256,256), dtype=np.uint8)\n",
    "    \n",
    "    sigma = np.random.uniform(*sigma_range )\n",
    "    amount = amount\n",
    "    img = img_as_float(img)\n",
    "    \n",
    "    if mode == 'gaussian':\n",
    "        noise = random_noise(img, var= sigma, mode = mode)\n",
    "    else:\n",
    "        noise = random_noise(img, amount= 0.5, mode = mode)\n",
    "        \n",
    "    img[rr, cc] = noise[rr, cc]\n",
    "    mask[rr, cc] = 1\n",
    "\n",
    "    if debug == True:\n",
    "        plt.subplot(1,2,1)\n",
    "        plt.imshow(img)\n",
    "\n",
    "        plt.subplot(1,2,2)\n",
    "        plt.imshow(mask)\n",
    "        \n",
    "    return img, mask"
   ]
  },
  {
   "cell_type": "code",
   "execution_count": 4,
   "metadata": {},
   "outputs": [
    {
     "data": {
      "image/png": "[encoded data removed]",
      "text/plain": [
       "<Figure size 432x288 with 2 Axes>"
      ]
     },
     "metadata": {
      "needs_background": "light"
     },
     "output_type": "display_data"
    }
   ],
   "source": [
    "center_extent = (64, 192)\n",
    "radius_extent = 64\n",
    "sigma_range = [0.04, 0.06]\n",
    "\n",
    "img, mask = generate_circle_img(sigma_range, center_extent, radius_extent, mode = 's&p', debug = True)\n",
    "\n",
    "# start = (64, 192)\n",
    "# extent = 64\n",
    "\n",
    "# img, mask = generate_rect_img(sigma_range, start, extent, debug = True)"
   ]
  },
  {
   "cell_type": "code",
   "execution_count": 5,
   "metadata": {},
   "outputs": [],
   "source": [
    "os.makedirs(\"data/syntheticSegmentation/\", exist_ok = True)"
   ]
  },
  {
   "cell_type": "markdown",
   "metadata": {},
   "source": [
    "#### Training/Testing Domains\n",
    "\n",
    "**Training Dom 1:** \n",
    "\n",
    "Only circles with the following noise parameters  \n",
    "center_extent = (64, 192)  \n",
    "radius_extent = 64  \n",
    "sigma_range = [0.04, 0.06]  \n",
    "\n",
    "---\n",
    "\n",
    "**Training Dom 2:** \n",
    "\n",
    "Set 1 (80%):\n",
    "Only circles with the following noise parameters  \n",
    "center_extent = (64, 192)  \n",
    "radius_extent = 64  \n",
    "sigma_range = [0.04, 0.06]  \n",
    "\n",
    "Set 2 (20%):\n",
    "Only rectangles with the following noise parameters  \n",
    "start = (64, 192)  \n",
    "extent = 64  \n",
    "sigma_range = [0.04, 0.06]  \n",
    "Catch: mask for rectange = 0\n",
    "\n",
    "---\n",
    "\n",
    "\n",
    "**Small Training Dom n:** \n",
    "\n",
    "set 1 : {0.85, 0.97, 4}\n",
    "total_size = 256\n",
    "\n",
    "Set 1 (n):\n",
    "Only circles with the following noise parameters  \n",
    "center_extent = (64, 192)  \n",
    "radius_extent = 64  \n",
    "sigma_range = [0.04, 0.06]  \n",
    "\n",
    "Set 2 (1-n):\n",
    "Only rectangles with the following noise parameters  \n",
    "start = (64, 192)  \n",
    "extent = 64  \n",
    "sigma_range = [0.04, 0.06]  \n",
    "Catch: mask for rectange = 0\n",
    "\n",
    "---\n",
    "\n",
    "\n",
    "**Testing Dom 1:** \n",
    "\n",
    "Only circles with the following noise parameters  \n",
    "center_extent = (64, 192)  \n",
    "radius_extent = 64  \n",
    "sigma_range = [0.04, 0.06]  \n",
    "\n",
    "---\n",
    "\n",
    "\n",
    "**Testing Dom 2:** \n",
    "\n",
    "Only rectangles with the following noise parameters  \n",
    "start = (64, 192)  \n",
    "extent = 64  \n",
    "sigma_range = [0.04, 0.06]  \n",
    "\n",
    "---\n",
    "\n",
    "\n",
    "**Testing Dom 3:** \n",
    "\n",
    "Only circles with the following noise parameters  \n",
    "center_extent = (64, 192)  \n",
    "radius_extent = 64  \n",
    "sigma_range = [0.08, 0.12]  \n",
    "\n",
    "---\n",
    "\n",
    "**Testing Dom 4:** \n",
    "\n",
    "Only circles with the following noise parameters  \n",
    "center_extent = (64, 192)  \n",
    "radius_extent = 64  \n",
    "sigma_range = [0.28, 0.32]  \n",
    "\n",
    "---\n",
    "\n",
    "**Testing Dom 5:** \n",
    "\n",
    "Only circles with the following noise parameters  \n",
    "center_extent = (64, 192)  \n",
    "radius_extent = 64  \n",
    "sigma_range = [0.08, 0.12]  * 10\n",
    "\n",
    "---\n",
    "\n",
    "**Testing Dom 6:** \n",
    "\n",
    "Only circles with the following noise parameters  \n",
    "center_extent = (64, 192)  \n",
    "radius_extent = 64  \n",
    "sigma_range = [0.08, 0.12]   + 10\n",
    "\n",
    "---\n",
    "\n",
    "**Testing Dom 7:** \n",
    "\n",
    "Only rectangles with the following noise parameters  \n",
    "start = (64, 192)  \n",
    "extent = 64  \n",
    "sigma_range = [0.04, 0.06]  *10\n",
    "\n",
    "---\n",
    "----\n",
    "\n",
    "#### Simplicity bias Testing Experiments\n",
    "\n",
    "**Training Set** \n",
    "\n",
    "n_images = 1024\n",
    "\n",
    "Invariant Feature: Geometry : {circle, rectangle}\n",
    "Spurious Feature: Texture: {gaussian, s&p}\n",
    "\n",
    "start = (64, 192)  \n",
    "extent = 64  \n",
    "sigma_range = [0.04, 0.06]\n",
    "\n",
    "Percentage of spurious features: {0.85, 0.89, 0.93, 0.97}\n",
    "\n",
    "**Test Set** \n",
    "\n",
    "n_images = 512\n",
    "\n",
    "Invariant Feature: Geometry : {circle, rectangle}\n",
    "Spurious Feature: Texture: {gaussian, s&p}\n",
    "\n",
    "start = (64, 192)  \n",
    "extent = 64  \n",
    "sigma_range = [0.04, 0.06]\n",
    "\n",
    "Percentage of spurious features: 0.5\n",
    "\n",
    "\n",
    "\n",
    "\n"
   ]
  },
  {
   "cell_type": "markdown",
   "metadata": {},
   "source": [
    "#### Training set: Domain 1"
   ]
  },
  {
   "cell_type": "code",
   "execution_count": 10,
   "metadata": {},
   "outputs": [],
   "source": [
    "# generate the training set\n",
    "\n",
    "center_extent = (64, 192)\n",
    "radius_extent = 64\n",
    "sigma_range = [0.04, 0.06]\n",
    "\n",
    "n_train = 1024\n",
    "train_x = np.zeros((n_train, 1, 256, 256), dtype=np.float32)\n",
    "train_y = np.zeros((n_train, 1, 256, 256), dtype = np.uint8)\n",
    "for i in range(n_train):\n",
    "    img, mask = generate_circle_img(sigma_range, center_extent, radius_extent)\n",
    "    train_x[i,0] = img\n",
    "    train_y[i,0] = mask\n",
    "    \n",
    "np.savez(\"data/syntheticSegmentation/train_dom1\", x=train_x, y=train_y, center_extent=center_extent, radius_extent=radius_extent, sigma_range=sigma_range)"
   ]
  },
  {
   "cell_type": "markdown",
   "metadata": {},
   "source": [
    "#### Test set: Domain 1"
   ]
  },
  {
   "cell_type": "code",
   "execution_count": 6,
   "metadata": {},
   "outputs": [],
   "source": [
    "#test generator parameters\n",
    "center_extent = (64, 192)\n",
    "radius_extent = 64\n",
    "sigma_range = [0.04, 0.06]\n",
    "\n",
    "n_test = 256\n",
    "test_x = np.zeros((n_test, 1, 256, 256), dtype=np.float32)\n",
    "test_y = np.zeros((n_test, 1, 256, 256), dtype = np.uint8)\n",
    "for i in range(n_test):\n",
    "    img, mask = generate_circle_img(sigma_range, center_extent, radius_extent)\n",
    "    test_x[i,0] = img\n",
    "    test_y[i,0] = mask\n",
    "    \n",
    "np.savez(\"data/syntheticSegmentation/test_dom1\", x=test_x, y=test_y, center_extent=center_extent, radius_extent=radius_extent, sigma_range=sigma_range)"
   ]
  },
  {
   "cell_type": "markdown",
   "metadata": {},
   "source": [
    "#### Test set: Domain 2"
   ]
  },
  {
   "cell_type": "code",
   "execution_count": 9,
   "metadata": {},
   "outputs": [],
   "source": [
    "#test generator parameters\n",
    "start_extent = (64, 192)\n",
    "extent = 64\n",
    "sigma_range = [0.04, 0.06]\n",
    "\n",
    "n_test = 256\n",
    "test_x = np.zeros((n_test, 1, 256, 256), dtype=np.float32)\n",
    "test_y = np.zeros((n_test, 1, 256, 256), dtype = np.uint8)\n",
    "for i in range(n_test):\n",
    "    img, mask = generate_rect_img(sigma_range, start_extent, extent)\n",
    "    test_x[i,0] = img\n",
    "    test_y[i,0] = mask\n",
    "    \n",
    "np.savez(\"data/syntheticSegmentation/test_dom2\", x=test_x, y=test_y, start_extent=start_extent, extent=extent, sigma_range=sigma_range)"
   ]
  },
  {
   "cell_type": "markdown",
   "metadata": {},
   "source": [
    "#### Test set: Domain 3"
   ]
  },
  {
   "cell_type": "code",
   "execution_count": 8,
   "metadata": {},
   "outputs": [],
   "source": [
    "#test generator parameters\n",
    "center_extent = (64, 192)\n",
    "radius_extent = 64\n",
    "sigma_range = [0.08, 0.12]\n",
    "\n",
    "n_test = 256\n",
    "test_x = np.zeros((n_test, 1, 256, 256), dtype=np.float32)\n",
    "test_y = np.zeros((n_test, 1, 256, 256), dtype = np.uint8)\n",
    "for i in range(n_test):\n",
    "    img, mask = generate_circle_img(sigma_range, center_extent, radius_extent)\n",
    "    test_x[i,0] = img\n",
    "    test_y[i,0] = mask\n",
    "    \n",
    "np.savez(\"data/syntheticSegmentation/test_dom3\", x=test_x, y=test_y, center_extent=center_extent, radius_extent=radius_extent, sigma_range=sigma_range)"
   ]
  },
  {
   "cell_type": "markdown",
   "metadata": {},
   "source": [
    "#### Test set: Domain 4"
   ]
  },
  {
   "cell_type": "code",
   "execution_count": 4,
   "metadata": {},
   "outputs": [
    {
     "name": "stderr",
     "output_type": "stream",
     "text": [
      "/home/rahulv/codes/robustdg/robustdg/lib/python3.7/site-packages/skimage/draw/draw.py:41: RuntimeWarning: invalid value encountered in true_divide\n",
      "  distances = ((r * cos_alpha + c * sin_alpha) / r_rad) ** 2 \\\n",
      "/home/rahulv/codes/robustdg/robustdg/lib/python3.7/site-packages/skimage/draw/draw.py:42: RuntimeWarning: invalid value encountered in true_divide\n",
      "  + ((r * sin_alpha - c * cos_alpha) / c_rad) ** 2\n"
     ]
    }
   ],
   "source": [
    "#test generator parameters\n",
    "center_extent = (64, 192)\n",
    "radius_extent = 64\n",
    "sigma_range = [0.28, 0.32]\n",
    "\n",
    "n_test = 256\n",
    "test_x = np.zeros((n_test, 1, 256, 256), dtype=np.float32)\n",
    "test_y = np.zeros((n_test, 1, 256, 256), dtype = np.uint8)\n",
    "for i in range(n_test):\n",
    "    img, mask = generate_circle_img(sigma_range, center_extent, radius_extent)\n",
    "    test_x[i,0] = img\n",
    "    test_y[i,0] = mask\n",
    "    \n",
    "np.savez(\"data/syntheticSegmentation/test_dom4\", x=test_x, y=test_y, center_extent=center_extent, radius_extent=radius_extent, sigma_range=sigma_range)"
   ]
  },
  {
   "cell_type": "markdown",
   "metadata": {},
   "source": [
    "#### Test set: Domain 5"
   ]
  },
  {
   "cell_type": "code",
   "execution_count": 7,
   "metadata": {},
   "outputs": [],
   "source": [
    "#test generator parameters\n",
    "center_extent = (64, 192)\n",
    "radius_extent = 64\n",
    "sigma_range = [0.08, 0.12]\n",
    "\n",
    "n_test = 256\n",
    "test_x = np.zeros((n_test, 1, 256, 256), dtype=np.float32)\n",
    "test_y = np.zeros((n_test, 1, 256, 256), dtype = np.uint8)\n",
    "for i in range(n_test):\n",
    "    img, mask = generate_circle_img(sigma_range, center_extent, radius_extent)\n",
    "    test_x[i,0] = img*10.0\n",
    "    test_y[i,0] = mask\n",
    "    \n",
    "np.savez(\"data/syntheticSegmentation/test_dom5\", x=test_x, y=test_y, center_extent=center_extent, radius_extent=radius_extent, sigma_range=sigma_range)"
   ]
  },
  {
   "cell_type": "markdown",
   "metadata": {},
   "source": [
    "#### Test set: Domain 6"
   ]
  },
  {
   "cell_type": "code",
   "execution_count": 8,
   "metadata": {},
   "outputs": [],
   "source": [
    "#test generator parameters\n",
    "center_extent = (64, 192)\n",
    "radius_extent = 64\n",
    "sigma_range = [0.08, 0.12]\n",
    "\n",
    "n_test = 256\n",
    "test_x = np.zeros((n_test, 1, 256, 256), dtype=np.float32)\n",
    "test_y = np.zeros((n_test, 1, 256, 256), dtype = np.uint8)\n",
    "for i in range(n_test):\n",
    "    img, mask = generate_circle_img(sigma_range, center_extent, radius_extent)\n",
    "    test_x[i,0] = img + 10.0\n",
    "    test_y[i,0] = mask\n",
    "    \n",
    "np.savez(\"data/syntheticSegmentation/test_dom6\", x=test_x, y=test_y, center_extent=center_extent, radius_extent=radius_extent, sigma_range=sigma_range)"
   ]
  },
  {
   "cell_type": "markdown",
   "metadata": {},
   "source": [
    "#### Train set: Domain 2"
   ]
  },
  {
   "cell_type": "code",
   "execution_count": 12,
   "metadata": {},
   "outputs": [],
   "source": [
    "# generate the training set\n",
    "n_train = 1024\n",
    "\n",
    "n_circ = int(0.8*n_train)\n",
    "\n",
    "#circle parameters\n",
    "center_extent = (64, 192)\n",
    "radius_extent = 64\n",
    "sigma_range = [0.04, 0.06]\n",
    "\n",
    "train_x = np.zeros((n_train, 1, 256, 256), dtype=np.float32)\n",
    "train_y = np.zeros((n_train, 1, 256, 256), dtype = np.uint8)\n",
    "for i in range(n_circ):\n",
    "    img, mask = generate_circle_img(sigma_range, center_extent, radius_extent)\n",
    "    train_x[i,0] = img\n",
    "    train_y[i,0] = mask\n",
    "    \n",
    "#rectangle paramters\n",
    "start_extent = (64, 192)\n",
    "extent = 64\n",
    "sigma_range = [0.04, 0.06]\n",
    "\n",
    "n_rect = n_train - n_circ\n",
    "\n",
    "for i in range(n_circ, n_train):\n",
    "    img, mask = generate_rect_img(sigma_range, start_extent, extent)\n",
    "    train_x[i,0] = img\n",
    "    #NOTE: no train_y\n",
    "    \n",
    "np.savez(\"data/syntheticSegmentation/train_dom2\", x=train_x, y=train_y, center_extent=center_extent, radius_extent=radius_extent, sigma_range=sigma_range)"
   ]
  },
  {
   "cell_type": "markdown",
   "metadata": {},
   "source": [
    "#### Train set: Domain n"
   ]
  },
  {
   "cell_type": "code",
   "execution_count": 4,
   "metadata": {},
   "outputs": [
    {
     "name": "stderr",
     "output_type": "stream",
     "text": [
      "/home/rahulv/codes/robustdg/robustdg/lib/python3.7/site-packages/skimage/draw/draw.py:41: RuntimeWarning: invalid value encountered in true_divide\n",
      "  distances = ((r * cos_alpha + c * sin_alpha) / r_rad) ** 2 \\\n",
      "/home/rahulv/codes/robustdg/robustdg/lib/python3.7/site-packages/skimage/draw/draw.py:42: RuntimeWarning: invalid value encountered in true_divide\n",
      "  + ((r * sin_alpha - c * cos_alpha) / c_rad) ** 2\n"
     ]
    }
   ],
   "source": [
    "# generate the training set\n",
    "n_train = 1024\n",
    "\n",
    "for perc in np.arange(0.85, 1, 0.04):\n",
    "    n_circ = int(perc*n_train)\n",
    "\n",
    "    #circle parameters\n",
    "    center_extent = (64, 192)\n",
    "    radius_extent = 64\n",
    "    sigma_range = [0.04, 0.06]\n",
    "\n",
    "    train_x = np.zeros((n_train, 1, 256, 256), dtype=np.float32)\n",
    "    train_y = np.zeros((n_train, 1, 256, 256), dtype = np.uint8)\n",
    "    for i in range(n_circ):\n",
    "        img, mask = generate_circle_img(sigma_range, center_extent, radius_extent)\n",
    "        train_x[i,0] = img\n",
    "        train_y[i,0] = mask\n",
    "\n",
    "    #rectangle paramters\n",
    "    start_extent = (64, 192)\n",
    "    extent = 64\n",
    "    sigma_range = [0.04, 0.06]\n",
    "\n",
    "    n_rect = n_train - n_circ\n",
    "\n",
    "    for i in range(n_circ, n_train):\n",
    "        img, mask = generate_rect_img(sigma_range, start_extent, extent)\n",
    "        train_x[i,0] = img\n",
    "        #NOTE: no train_y\n",
    "\n",
    "    np.savez(\"data/syntheticSegmentation/train_dom2_%s\"%str(perc), x=train_x, y=train_y, center_extent=center_extent, radius_extent=radius_extent, sigma_range=sigma_range)"
   ]
  },
  {
   "cell_type": "code",
   "execution_count": 4,
   "metadata": {},
   "outputs": [
    {
     "name": "stderr",
     "output_type": "stream",
     "text": [
      "/home/rahulv/codes/robustdg/robustdg/lib/python3.7/site-packages/skimage/draw/draw.py:41: RuntimeWarning: invalid value encountered in true_divide\n",
      "  distances = ((r * cos_alpha + c * sin_alpha) / r_rad) ** 2 \\\n",
      "/home/rahulv/codes/robustdg/robustdg/lib/python3.7/site-packages/skimage/draw/draw.py:42: RuntimeWarning: invalid value encountered in true_divide\n",
      "  + ((r * sin_alpha - c * cos_alpha) / c_rad) ** 2\n"
     ]
    }
   ],
   "source": [
    "# generate the training set\n",
    "n_train = 256\n",
    "\n",
    "for perc in np.arange(0.85, 1, 0.04):\n",
    "    n_circ = int(perc*n_train)\n",
    "\n",
    "    #circle parameters\n",
    "    center_extent = (64, 192)\n",
    "    radius_extent = 64\n",
    "    sigma_range = [0.04, 0.06]\n",
    "\n",
    "    train_x = np.zeros((n_train, 1, 256, 256), dtype=np.float32)\n",
    "    train_y = np.zeros((n_train, 1, 256, 256), dtype = np.uint8)\n",
    "    for i in range(n_circ):\n",
    "        img, mask = generate_circle_img(sigma_range, center_extent, radius_extent)\n",
    "        train_x[i,0] = img\n",
    "        train_y[i,0] = mask\n",
    "\n",
    "    #rectangle paramters\n",
    "    start_extent = (64, 192)\n",
    "    extent = 64\n",
    "    sigma_range = [0.04, 0.06]\n",
    "\n",
    "    n_rect = n_train - n_circ\n",
    "\n",
    "    for i in range(n_circ, n_train):\n",
    "        img, mask = generate_rect_img(sigma_range, start_extent, extent)\n",
    "        train_x[i,0] = img\n",
    "        #NOTE: no train_y\n",
    "\n",
    "    np.savez(\"data/syntheticSegmentation/small_train_dom2_%s\"%str(perc), x=train_x, y=train_y, center_extent=center_extent, radius_extent=radius_extent, sigma_range=sigma_range)"
   ]
  },
  {
   "cell_type": "code",
   "execution_count": 8,
   "metadata": {},
   "outputs": [],
   "source": [
    "#test generator parameters\n",
    "start_extent = (64, 192)\n",
    "extent = 64\n",
    "sigma_range = np.asarray([0.04, 0.06])*10\n",
    "\n",
    "n_test = 256\n",
    "test_x = np.zeros((n_test, 1, 256, 256), dtype=np.float32)\n",
    "test_y = np.zeros((n_test, 1, 256, 256), dtype = np.uint8)\n",
    "for i in range(n_test):\n",
    "    img, mask = generate_rect_img(sigma_range, start_extent, extent)\n",
    "    test_x[i,0] = img\n",
    "    test_y[i,0] = mask\n",
    "    \n",
    "np.savez(\"data/syntheticSegmentation/test_dom7\", x=test_x, y=test_y, start_extent=start_extent, extent=extent, sigma_range=sigma_range)"
   ]
  },
  {
   "cell_type": "code",
   "execution_count": 11,
   "metadata": {},
   "outputs": [],
   "source": [
    "#test generator parameters\n",
    "start_extent = (64, 192)\n",
    "extent = 64\n",
    "sigma_range = np.asarray([0.08, 0.12])\n",
    "\n",
    "n_test = 256\n",
    "test_x = np.zeros((n_test, 1, 256, 256), dtype=np.float32)\n",
    "test_y = np.zeros((n_test, 1, 256, 256), dtype = np.uint8)\n",
    "for i in range(n_test):\n",
    "    img, mask = generate_rect_img(sigma_range, start_extent, extent)\n",
    "    test_x[i,0] = img\n",
    "    test_y[i,0] = mask\n",
    "    \n",
    "np.savez(\"data/syntheticSegmentation/test_dom8\", x=test_x, y=test_y, start_extent=start_extent, extent=extent, sigma_range=sigma_range)"
   ]
  },
  {
   "cell_type": "markdown",
   "metadata": {},
   "source": [
    "## Simplicity bias Experiments"
   ]
  },
  {
   "cell_type": "markdown",
   "metadata": {},
   "source": [
    "#### Training Dataset"
   ]
  },
  {
   "cell_type": "code",
   "execution_count": 39,
   "metadata": {},
   "outputs": [
    {
     "data": {
      "image/png": "[encoded data removed]",
      "text/plain": [
       "<Figure size 432x288 with 2 Axes>"
      ]
     },
     "metadata": {
      "needs_background": "light"
     },
     "output_type": "display_data"
    },
    {
     "data": {
      "image/png": "[encoded data removed]",
      "text/plain": [
       "<Figure size 432x288 with 2 Axes>"
      ]
     },
     "metadata": {
      "needs_background": "light"
     },
     "output_type": "display_data"
    },
    {
     "data": {
      "image/png": "[encoded data removed]",
      "text/plain": [
       "<Figure size 432x288 with 2 Axes>"
      ]
     },
     "metadata": {
      "needs_background": "light"
     },
     "output_type": "display_data"
    },
    {
     "data": {
      "image/png": "[encoded data removed]",
      "text/plain": [
       "<Figure size 432x288 with 2 Axes>"
      ]
     },
     "metadata": {
      "needs_background": "light"
     },
     "output_type": "display_data"
    }
   ],
   "source": [
    "# Training Set\n",
    "\n",
    "# n_images = 1024\n",
    "\n",
    "# Invariant Feature: Geometry : {circle, rectangle} Spurious Feature: Texture: {gaussian, s&p}\n",
    "\n",
    "# start = (64, 192)\n",
    "# extent = 64\n",
    "# sigma_range = [0.04, 0.06]\n",
    "\n",
    "# Percentage of spurious features: {0.85, 0.89, 0.93, 0.97}\n",
    "\n",
    "# Test Set\n",
    "\n",
    "# n_images = 512\n",
    "\n",
    "# Invariant Feature: Geometry : {circle, rectangle} Spurious Feature: Texture: {gaussian, s&p}\n",
    "\n",
    "# start = (64, 192)\n",
    "# extent = 64\n",
    "# sigma_range = [0.04, 0.06]\n",
    "\n",
    "# Percentage of spurious features: 0.5\n",
    "\n",
    "debug = True    \n",
    "# generate the training set\n",
    "n_train = 1024\n",
    "\n",
    "for perc in np.arange(0.85, 1, 0.04):\n",
    "    n_circ = n_train//2\n",
    "    n_rect = n_train - n_circ\n",
    "\n",
    "    train_x = np.zeros((n_train, 1, 256, 256), dtype=np.float32)\n",
    "    train_y = np.zeros((n_train, 2, 256, 256), dtype = np.uint8)\n",
    "    \n",
    "    #circle parameters\n",
    "    center_extent = (64, 192)\n",
    "    radius_extent = 64\n",
    "    sigma_range = [0.04, 0.06]\n",
    "\n",
    "    amount = 0.5\n",
    "    \n",
    "    for i in range(n_circ):\n",
    "        mode = 'gaussian'\n",
    "        if np.random.random(1)[0] > perc:\n",
    "            mode = 's&p'\n",
    "        img, mask = generate_circle_img(sigma_range, center_extent, radius_extent, amount, mode)\n",
    "        train_x[i,0] = img\n",
    "        train_y[i,0] = mask\n",
    "\n",
    "    #rectangle paramters\n",
    "    start_extent = (64, 192)\n",
    "    extent = 64\n",
    "\n",
    "    \n",
    "    for i in range(n_circ, n_train):\n",
    "        mode = 's&p'\n",
    "        if np.random.random(1)[0] > perc:\n",
    "            mode = 'gaussian'\n",
    "        \n",
    "        img, mask = generate_rect_img(sigma_range, start_extent, extent, amount, mode)\n",
    "        train_x[i,0] = img\n",
    "        train_y[i,1] = mask\n",
    "\n",
    "    np.savez(\"data/syntheticSegmentation/simple_train_dom1_%0.2f\"%(perc), x=train_x, y=train_y, center_extent=center_extent, radius_extent=radius_extent, sigma_range=sigma_range)\n",
    "    \n",
    "    if debug:\n",
    "        rand_num = np.random.randint(n_train)\n",
    "        plt.figure()\n",
    "        plt.subplot(1,2,1)\n",
    "        plt.imshow(train_x[rand_num,0])\n",
    "        \n",
    "        plt.subplot(1,2,2)\n",
    "        plt.imshow(train_y[rand_num,0] + train_y[rand_num,1])\n",
    "    "
   ]
  },
  {
   "cell_type": "markdown",
   "metadata": {},
   "source": [
    "#### Test Dataset for simplicity bias"
   ]
  },
  {
   "cell_type": "code",
   "execution_count": 3,
   "metadata": {},
   "outputs": [
    {
     "name": "stderr",
     "output_type": "stream",
     "text": [
      "/home/rahulv/codes/robustdg/robustdg/lib/python3.7/site-packages/skimage/draw/draw.py:41: RuntimeWarning: invalid value encountered in true_divide\n",
      "  distances = ((r * cos_alpha + c * sin_alpha) / r_rad) ** 2 \\\n",
      "/home/rahulv/codes/robustdg/robustdg/lib/python3.7/site-packages/skimage/draw/draw.py:42: RuntimeWarning: invalid value encountered in true_divide\n",
      "  + ((r * sin_alpha - c * cos_alpha) / c_rad) ** 2\n"
     ]
    },
    {
     "data": {
      "image/png": "[encoded data removed]",
      "text/plain": [
       "<Figure size 432x288 with 2 Axes>"
      ]
     },
     "metadata": {
      "needs_background": "light"
     },
     "output_type": "display_data"
    },
    {
     "data": {
      "image/png": "[encoded data removed]",
      "text/plain": [
       "<Figure size 432x288 with 2 Axes>"
      ]
     },
     "metadata": {
      "needs_background": "light"
     },
     "output_type": "display_data"
    },
    {
     "data": {
      "image/png": "[encoded data removed]",
      "text/plain": [
       "<Figure size 432x288 with 2 Axes>"
      ]
     },
     "metadata": {
      "needs_background": "light"
     },
     "output_type": "display_data"
    },
    {
     "data": {
      "image/png": "[encoded data removed]",
      "text/plain": [
       "<Figure size 432x288 with 2 Axes>"
      ]
     },
     "metadata": {
      "needs_background": "light"
     },
     "output_type": "display_data"
    }
   ],
   "source": [
    "# Test Set\n",
    "\n",
    "# n_images = 1024\n",
    "\n",
    "# Invariant Feature: Geometry : {circle, rectangle} Spurious Feature: Texture: {gaussian, s&p}\n",
    "\n",
    "# start = (64, 192)\n",
    "# extent = 64\n",
    "# sigma_range = [0.04, 0.06]\n",
    "\n",
    "# Percentage of spurious features: {0.85, 0.89, 0.93, 0.97}\n",
    "\n",
    "# Test Set\n",
    "\n",
    "# n_images = 512\n",
    "\n",
    "# Invariant Feature: Geometry : {circle, rectangle} Spurious Feature: Texture: {gaussian, s&p}\n",
    "\n",
    "# start = (64, 192)\n",
    "# extent = 64\n",
    "# sigma_range = [0.04, 0.06]\n",
    "\n",
    "# Percentage of spurious features: 0.5\n",
    "\n",
    "debug = True    \n",
    "# generate the training set\n",
    "n_train = 1024\n",
    "\n",
    "for perc in np.arange(0.85, 1, 0.04):\n",
    "    n_circ = n_train//2\n",
    "    n_rect = n_train - n_circ\n",
    "\n",
    "    train_x = np.zeros((n_train, 1, 256, 256), dtype=np.float32)\n",
    "    train_y = np.zeros((n_train, 2, 256, 256), dtype = np.uint8)\n",
    "    \n",
    "    #circle parameters\n",
    "    center_extent = (64, 192)\n",
    "    radius_extent = 64\n",
    "    sigma_range = [0.04, 0.06]\n",
    "\n",
    "    amount = 0.5\n",
    "    \n",
    "    for i in range(n_circ):\n",
    "        mode = 'gaussian'\n",
    "        if np.random.random(1)[0] > perc:\n",
    "            mode = 's&p'\n",
    "        img, mask = generate_circle_img(sigma_range, center_extent, radius_extent, amount, mode)\n",
    "        train_x[i,0] = img\n",
    "        train_y[i,0] = mask\n",
    "\n",
    "    #rectangle paramters\n",
    "    start_extent = (64, 192)\n",
    "    extent = 64\n",
    "\n",
    "    \n",
    "    for i in range(n_circ, n_train):\n",
    "        mode = 's&p'\n",
    "        if np.random.random(1)[0] > perc:\n",
    "            mode = 'gaussian'\n",
    "        \n",
    "        img, mask = generate_rect_img(sigma_range, start_extent, extent, amount, mode)\n",
    "        train_x[i,0] = img\n",
    "        train_y[i,1] = mask\n",
    "\n",
    "    np.savez(\"data/syntheticSegmentation/simple_test_dom1_%s\"%str(perc), x=train_x, y=train_y, center_extent=center_extent, radius_extent=radius_extent, sigma_range=sigma_range)\n",
    "    \n",
    "    if debug:\n",
    "        rand_num = np.random.randint(n_train)\n",
    "        plt.figure()\n",
    "        plt.subplot(1,2,1)\n",
    "        plt.imshow(train_x[rand_num,0])\n",
    "        \n",
    "        plt.subplot(1,2,2)\n",
    "        plt.imshow(train_y[rand_num,0] + train_y[rand_num,1])\n",
    "    "
   ]
  },
  {
   "cell_type": "markdown",
   "metadata": {},
   "source": [
    "#### Generate Synthetic data to test all cases"
   ]
  },
  {
   "cell_type": "code",
   "execution_count": 6,
   "metadata": {},
   "outputs": [
    {
     "name": "stdout",
     "output_type": "stream",
     "text": [
      "circle gaussian\n"
     ]
    },
    {
     "name": "stderr",
     "output_type": "stream",
     "text": [
      "/home/rahulv/codes/robustdg/robustdg/lib/python3.7/site-packages/skimage/draw/draw.py:41: RuntimeWarning: invalid value encountered in true_divide\n",
      "  distances = ((r * cos_alpha + c * sin_alpha) / r_rad) ** 2 \\\n",
      "/home/rahulv/codes/robustdg/robustdg/lib/python3.7/site-packages/skimage/draw/draw.py:42: RuntimeWarning: invalid value encountered in true_divide\n",
      "  + ((r * sin_alpha - c * cos_alpha) / c_rad) ** 2\n"
     ]
    },
    {
     "name": "stdout",
     "output_type": "stream",
     "text": [
      "circle s&p\n",
      "rectange gaussian\n",
      "rectange s&p\n"
     ]
    },
    {
     "data": {
      "image/png": "[encoded data removed]",
      "text/plain": [
       "<Figure size 432x288 with 2 Axes>"
      ]
     },
     "metadata": {
      "needs_background": "light"
     },
     "output_type": "display_data"
    }
   ],
   "source": [
    "# Test Set\n",
    "\n",
    "# n_images = 1024\n",
    "\n",
    "# Invariant Feature: Geometry : {circle, rectangle} Spurious Feature: Texture: {gaussian, s&p}\n",
    "\n",
    "# start = (64, 192)\n",
    "# extent = 64\n",
    "# sigma_range = [0.04, 0.06]\n",
    "\n",
    "# Percentage of spurious features: {0.85, 0.89, 0.93, 0.97}\n",
    "\n",
    "# Test Set\n",
    "\n",
    "# n_images = 512\n",
    "\n",
    "# Invariant Feature: Geometry : {circle, rectangle} Spurious Feature: Texture: {gaussian, s&p}\n",
    "\n",
    "# start = (64, 192)\n",
    "# extent = 64\n",
    "# sigma_range = [0.04, 0.06]\n",
    "\n",
    "# Percentage of spurious features: 0.5\n",
    "\n",
    "#circle parameters\n",
    "center_extent = (64, 192)\n",
    "radius_extent = 64\n",
    "sigma_range = [0.04, 0.06]\n",
    "\n",
    "#rectangle paramters\n",
    "start_extent = (64, 192)\n",
    "extent = 64\n",
    "\n",
    "debug = True    \n",
    "# generate the training set\n",
    "n_train = 1024\n",
    "\n",
    "textures = ['gaussian', 's&p']\n",
    "shapes = ['circle', 'rectange']\n",
    "\n",
    "#s&p parameter\n",
    "amount = 0.5\n",
    "\n",
    "train_x = np.zeros((n_train, 1, 256, 256), dtype=np.float32)\n",
    "train_y = np.zeros((n_train, 2, 256, 256), dtype = np.uint8)\n",
    "n_samples = n_train//4 #per 'class'\n",
    "\n",
    "for i, shape in enumerate(shapes):\n",
    "    for j, texture in enumerate(textures):\n",
    "\n",
    "        print(shape, texture)\n",
    "\n",
    "        if shape == 'circle':\n",
    "            for k in range(i*len(textures)*n_samples + j*n_samples,i*len(textures)*n_samples + j*n_samples + n_samples):\n",
    "                img, mask = generate_circle_img(sigma_range, center_extent, radius_extent, amount, texture)\n",
    "                train_x[k,0] = img\n",
    "                train_y[k,0] = mask            \n",
    "        else:\n",
    "            for k in range(i*len(textures)*n_samples + j*n_samples,i*len(textures)*n_samples  + j*n_samples  + n_samples):\n",
    "                img, mask = generate_rect_img(sigma_range, start_extent, extent, amount, texture)\n",
    "                train_x[k,0] = img\n",
    "                train_y[k,1] = mask    \n",
    "\n",
    "np.savez(\"data/syntheticSegmentation/simple_balanced_test_dom1.npz\", x=train_x, y=train_y, center_extent=center_extent, radius_extent=radius_extent, sigma_range=sigma_range)\n",
    "\n",
    "if debug:\n",
    "    rand_num = np.random.randint(n_train)\n",
    "    plt.figure()\n",
    "    plt.subplot(1,2,1)\n",
    "    plt.imshow(train_x[rand_num,0])\n",
    "\n",
    "    plt.subplot(1,2,2)\n",
    "    plt.imshow(train_y[rand_num,0] + train_y[rand_num,1])\n"
   ]
  },
  {
   "cell_type": "code",
   "execution_count": 33,
   "metadata": {},
   "outputs": [
    {
     "data": {
      "text/plain": [
       "<matplotlib.image.AxesImage at 0x7fccdf13fef0>"
      ]
     },
     "execution_count": 33,
     "metadata": {},
     "output_type": "execute_result"
    },
    {
     "data": {
      "image/png": "[encoded data removed]",
      "text/plain": [
       "<Figure size 432x288 with 2 Axes>"
      ]
     },
     "metadata": {
      "needs_background": "light"
     },
     "output_type": "display_data"
    }
   ],
   "source": [
    "rand_num = np.random.randint(n_train)\n",
    "rand_num = -315\n",
    "plt.figure()\n",
    "plt.subplot(1,2,1)\n",
    "plt.imshow(train_x[rand_num,0])\n",
    "\n",
    "plt.subplot(1,2,2)\n",
    "plt.imshow(train_y[rand_num,0] + train_y[rand_num,1])\n"
   ]
  },
  {
   "cell_type": "code",
   "execution_count": 32,
   "metadata": {},
   "outputs": [
    {
     "data": {
      "text/plain": [
       "256"
      ]
     },
     "execution_count": 32,
     "metadata": {},
     "output_type": "execute_result"
    }
   ],
   "source": [
    "1024//4\n"
   ]
  }
 ],
 "metadata": {
  "kernelspec": {
   "display_name": "robustdg",
   "language": "python",
   "name": "robustdg"
  },
  "language_info": {
   "codemirror_mode": {
    "name": "ipython",
    "version": 3
   },
   "file_extension": ".py",
   "mimetype": "text/x-python",
   "name": "python",
   "nbconvert_exporter": "python",
   "pygments_lexer": "ipython3",
   "version": "3.7.3"
  }
 },
 "nbformat": 4,
 "nbformat_minor": 2
}
